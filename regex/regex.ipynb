{
 "cells": [
  {
   "cell_type": "code",
   "execution_count": 1,
   "metadata": {},
   "outputs": [
    {
     "name": "stdout",
     "output_type": "stream",
     "text": [
      "True False\n"
     ]
    }
   ],
   "source": [
    "def mobile(num):\n",
    "# mobile number must be of 12 numbers    \n",
    "    if len(num) !=12:\n",
    "        return False\n",
    "# check first three digits(is float as mobile number cant be float)    \n",
    "    for i in range(0,3):\n",
    "        if not num[i].isdecimal():\n",
    "            return False\n",
    "    if num[3] != '-':\n",
    "        print(\"false\") \n",
    "    for i in range(4,7):\n",
    "        if not num[i].isdecimal():\n",
    "            return False  \n",
    "    if num[7] != '-':\n",
    "        print(\"false\")  \n",
    "    for i in range(8,12):\n",
    "        if not num[i].isdecimal():\n",
    "            return False   \n",
    "    return True   \n",
    "        \n",
    "print((mobile('988-092-8889')) ,(mobile('9838-0992-8889')))         "
   ]
  },
  {
   "cell_type": "code",
   "execution_count": 2,
   "metadata": {},
   "outputs": [
    {
     "data": {
      "text/plain": [
       "5"
      ]
     },
     "execution_count": 2,
     "metadata": {},
     "output_type": "execute_result"
    }
   ],
   "source": [
    "num='455534-55493-333'\n",
    "num.count('5')"
   ]
  },
  {
   "cell_type": "code",
   "execution_count": 4,
   "metadata": {},
   "outputs": [
    {
     "name": "stdout",
     "output_type": "stream",
     "text": [
      "03-05-1999 ['03-05-1999', '06-04-2000']\n"
     ]
    }
   ],
   "source": [
    "\n",
    "import re\n",
    "# print(help(re))\n",
    "line2='03-05-1999 06-04-2000'\n",
    "line='gag is born on 03-05-1999'\n",
    "gag=re.compile(r'\\d\\d-\\d\\d-\\d\\d\\d\\d')\n",
    "date=gag.search(line)\n",
    "alls=gag.findall(line2)# to multiple occurence in string\n",
    "print(date.group(),alls)"
   ]
  },
  {
   "cell_type": "code",
   "execution_count": 5,
   "metadata": {},
   "outputs": [],
   "source": [
    "phonenumreg=re.compile(r'(\\+\\d\\d)-(\\d\\d\\d)-(\\d\\d\\d)-(\\d\\d\\d\\d)')# +91 for country code\n",
    "mo=phonenumreg.search('my num is +91-988-889-6655')# parenthesis for groups"
   ]
  },
  {
   "cell_type": "code",
   "execution_count": 8,
   "metadata": {},
   "outputs": [
    {
     "data": {
      "text/plain": [
       "'+91'"
      ]
     },
     "execution_count": 8,
     "metadata": {},
     "output_type": "execute_result"
    }
   ],
   "source": [
    "mo.group(1)"
   ]
  },
  {
   "cell_type": "code",
   "execution_count": 9,
   "metadata": {},
   "outputs": [],
   "source": [
    "# find parenthesis in string\n",
    "\n",
    "paren=re.compile(r'\\(\\d\\d\\d\\) \\d\\d\\d-\\d\\d\\d\\d')\n",
    "mo=paren.search('my num is (915) 889-6654')\n"
   ]
  },
  {
   "cell_type": "code",
   "execution_count": 10,
   "metadata": {},
   "outputs": [
    {
     "data": {
      "text/plain": [
       "'(915) 889-6654'"
      ]
     },
     "execution_count": 10,
     "metadata": {},
     "output_type": "execute_result"
    }
   ],
   "source": [
    "mo.group()# it also search for parenthesis"
   ]
  },
  {
   "cell_type": "markdown",
   "metadata": {},
   "source": [
    "PIPE CHARACTER"
   ]
  },
  {
   "cell_type": "code",
   "execution_count": 15,
   "metadata": {},
   "outputs": [
    {
     "name": "stdout",
     "output_type": "stream",
     "text": [
      "['cool', 'star'] gagcool\n"
     ]
    },
    {
     "data": {
      "text/plain": [
       "'cool'"
      ]
     },
     "execution_count": 15,
     "metadata": {},
     "output_type": "execute_result"
    }
   ],
   "source": [
    "batreg=re.compile(r'gag(cool|kool|star)')# | is used to match one of many possible groups\n",
    "mo=batreg.findall('gag is gagcool gagstar is graet')\n",
    "mo1=batreg.search('gagcool is gagstar')\n",
    "print(mo,mo1.group())\n",
    "mo1.group(1)# to find which opton is found"
   ]
  },
  {
   "cell_type": "code",
   "execution_count": 16,
   "metadata": {},
   "outputs": [
    {
     "data": {
      "text/plain": [
       "'star'"
      ]
     },
     "execution_count": 16,
     "metadata": {},
     "output_type": "execute_result"
    }
   ],
   "source": [
    "mo1=batreg.search('gagstar is graet')\n",
    "mo1.group(1)"
   ]
  },
  {
   "cell_type": "code",
   "execution_count": 17,
   "metadata": {},
   "outputs": [],
   "source": [
    "bat=re.compile(r'bat(wo)?man')# here ? means wo can appear 0 or 1 time\n"
   ]
  },
  {
   "cell_type": "code",
   "execution_count": 11,
   "metadata": {},
   "outputs": [
    {
     "data": {
      "text/plain": [
       "('batman', 'batwoman')"
      ]
     },
     "execution_count": 11,
     "metadata": {},
     "output_type": "execute_result"
    }
   ],
   "source": [
    "bo=bat.search('batman')\n",
    "bo2=bat.search('batwoman')\n",
    "bo.group(),bo2.group()"
   ]
  },
  {
   "cell_type": "code",
   "execution_count": 12,
   "metadata": {},
   "outputs": [
    {
     "data": {
      "text/plain": [
       "'batwowowowoman'"
      ]
     },
     "execution_count": 12,
     "metadata": {},
     "output_type": "execute_result"
    }
   ],
   "source": [
    "bat=re.compile(r'bat(wo)*man')# here * means wo can appear 0 or n time\n",
    "bo=bat.search(r'batwowowowoman')\n",
    "bo.group()"
   ]
  },
  {
   "cell_type": "code",
   "execution_count": 18,
   "metadata": {},
   "outputs": [
    {
     "data": {
      "text/plain": [
       "(None, 'batwoman', 'batwowowoman')"
      ]
     },
     "execution_count": 18,
     "metadata": {},
     "output_type": "execute_result"
    }
   ],
   "source": [
    "bat=re.compile(r'bat(wo)+man')# here + means wo can appear more than 1 time\n",
    "bo1=bat.search('batman')# no answer as wo dont appear\n",
    "bo2=bat.search('batwoman')\n",
    "bo3=bat.search('batwowowoman')\n",
    "bo1,bo2.group(),bo3.group()"
   ]
  },
  {
   "cell_type": "code",
   "execution_count": 21,
   "metadata": {},
   "outputs": [
    {
     "data": {
      "text/plain": [
       "'0000'"
      ]
     },
     "execution_count": 21,
     "metadata": {},
     "output_type": "execute_result"
    }
   ],
   "source": [
    "ha=re.compile(r'(0){3,4}')# 3 times \n",
    "bo=ha.search('000000')#it will maximum only 3 time\n",
    "bo.group()"
   ]
  },
  {
   "cell_type": "markdown",
   "metadata": {},
   "source": [
    "now we are doing exmaple of country code optional and more than one numbers in line"
   ]
  },
  {
   "cell_type": "code",
   "execution_count": 26,
   "metadata": {},
   "outputs": [],
   "source": [
    "ha=re.compile(r'((\\d\\d\\d-)?\\d\\d\\d-\\d\\d\\d\\d){0,3}')"
   ]
  },
  {
   "cell_type": "code",
   "execution_count": 37,
   "metadata": {},
   "outputs": [
    {
     "data": {
      "text/plain": [
       "[('415-768-8976', '415-'), ('', ''), ('415-768-8976', '415-'), ('', '')]"
      ]
     },
     "execution_count": 37,
     "metadata": {},
     "output_type": "execute_result"
    }
   ],
   "source": [
    "\n",
    "mob2=ha.search('415-768-8976' '415-768-8976' )\n",
    "ha.findall('415-768-8976 415-768-8976')"
   ]
  },
  {
   "cell_type": "markdown",
   "metadata": {},
   "source": [
    "curly braces follow greedy algo default it mean it will try to get upper bound range\n",
    "if we use ? after braces it will make non greed\n",
    "means it will follw atmost lower bound"
   ]
  },
  {
   "cell_type": "code",
   "execution_count": 38,
   "metadata": {},
   "outputs": [],
   "source": [
    "greed=re.compile(r'(\\d){3,5}')"
   ]
  },
  {
   "cell_type": "code",
   "execution_count": 39,
   "metadata": {},
   "outputs": [
    {
     "data": {
      "text/plain": [
       "'12345'"
      ]
     },
     "execution_count": 39,
     "metadata": {},
     "output_type": "execute_result"
    }
   ],
   "source": [
    "dig=greed.search('12345678')\n",
    "dig.group()"
   ]
  },
  {
   "cell_type": "code",
   "execution_count": 40,
   "metadata": {},
   "outputs": [
    {
     "data": {
      "text/plain": [
       "'123'"
      ]
     },
     "execution_count": 40,
     "metadata": {},
     "output_type": "execute_result"
    }
   ],
   "source": [
    "nogreed=re.compile(r'(\\d){3,5}?')\n",
    "dig=nogreed.search('12345678')\n",
    "dig.group()"
   ]
  },
  {
   "cell_type": "code",
   "execution_count": null,
   "metadata": {},
   "outputs": [],
   "source": []
  },
  {
   "cell_type": "code",
   "execution_count": null,
   "metadata": {},
   "outputs": [],
   "source": []
  }
 ],
 "metadata": {
  "kernelspec": {
   "display_name": "Python 3",
   "language": "python",
   "name": "python3"
  },
  "language_info": {
   "codemirror_mode": {
    "name": "ipython",
    "version": 3
   },
   "file_extension": ".py",
   "mimetype": "text/x-python",
   "name": "python",
   "nbconvert_exporter": "python",
   "pygments_lexer": "ipython3",
   "version": "3.7.0"
  }
 },
 "nbformat": 4,
 "nbformat_minor": 2
}
