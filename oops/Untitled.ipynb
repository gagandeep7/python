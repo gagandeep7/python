{
 "cells": [
  {
   "cell_type": "code",
   "execution_count": 1,
   "metadata": {},
   "outputs": [
    {
     "name": "stdout",
     "output_type": "stream",
     "text": [
      "The balance is  7\n"
     ]
    }
   ],
   "source": [
    "class Customer:\n",
    "    def __init__(self, cust_id, name, age, wallet_balance):\n",
    "        self.cust_id = cust_id\n",
    "        self.name = name\n",
    "        self.age = age\n",
    "        self.__wallet_balance = wallet_balance\n",
    "\n",
    "    def update_balance(self, amount):\n",
    "        if amount < 1000 and amount > 0:\n",
    "            self.__wallet_balance += amount\n",
    "\n",
    "    def show_balance(self):\n",
    "        print (\"The balance is \",self.__wallet_balance)\n",
    "\n",
    "c1=Customer(100, \"Gopal\", 24, 1000)\n",
    "c1.update_balance(500)\n",
    "c1._Customer__wallet_balance = 7 #special way to access private specifier\n",
    "c1.show_balance()"
   ]
  },
  {
   "cell_type": "code",
   "execution_count": 2,
   "metadata": {},
   "outputs": [
    {
     "data": {
      "text/plain": [
       "6"
      ]
     },
     "execution_count": 2,
     "metadata": {},
     "output_type": "execute_result"
    }
   ],
   "source": [
    "class Example:\n",
    "    def __init__(self):\n",
    "        self.__num=5\n",
    "\n",
    "    def set_num(self,num):\n",
    "        self.__num=num\n",
    "\n",
    "    def get_num(self):\n",
    "        return self.__num\n",
    "obj=Example()\n",
    "obj.set_num(6)\n",
    "obj.get_num()"
   ]
  },
  {
   "cell_type": "code",
   "execution_count": 3,
   "metadata": {},
   "outputs": [],
   "source": [
    "#OOPR-Exer-4\n",
    "class Athlete:\n",
    "    def __init__(self,name,gender):\n",
    "        self.__name=name\n",
    "        self.__gender=gender\n",
    "    \n",
    "    def running(self):\n",
    "        if(self.__gender==\"girl\"):\n",
    "            print(\"150mtr running\")\n",
    "        else:\n",
    "            print(\"200mtr running\") \n",
    "    def set_name(self,name):\n",
    "        self.__name=name\n",
    "        \n",
    "    def set_gender(self,gender):\n",
    "        self.__gender=gender    \n",
    "    \n",
    "    def get_name(self):\n",
    "        return(self.__name)\n",
    "    def get_gender(self):\n",
    "        return(self.__gender)    \n",
    "    "
   ]
  },
  {
   "cell_type": "code",
   "execution_count": 4,
   "metadata": {},
   "outputs": [
    {
     "name": "stdout",
     "output_type": "stream",
     "text": [
      "wrong type\n"
     ]
    },
    {
     "data": {
      "text/plain": [
       "0"
      ]
     },
     "execution_count": 4,
     "metadata": {},
     "output_type": "execute_result"
    }
   ],
   "source": [
    "#OOPR-Assgn-5\n",
    "#Start writing your code here\n",
    " #OOPR-Assgn-5\n",
    "#Start writing your code here\n",
    "class Vehicle:\n",
    "    def __init__(self):\n",
    "        pass\n",
    "    \n",
    "    def set_vehicle_id(self,vehicle_id):\n",
    "        self.__vehicle_id = vehicle_id\n",
    "        \n",
    "    def set_vehicle_type(self,vehicle_type):\n",
    "        self.__vehicle_type = vehicle_type\n",
    "    \n",
    "    def set_vehicle_cost(self,vehicle_cost):\n",
    "        self.__vehicle_cost = vehicle_cost\n",
    "    \n",
    "    def set_premium_amount(self):\n",
    "        if   self.__vehicle_type ==\"TwoWheeler\":\n",
    "             self.__premium_percentage = 0.2\n",
    "        elif self.__vehicle_type == \"FourWheeler\":\n",
    "             self.__premium_percentage = 0.5\n",
    "        else:\n",
    "            print(\"wrong type\")\n",
    "            self.__premium_percentage = 0\n",
    "        \n",
    "    def calculate_premium(self):\n",
    "        self.__premium_amount = self.__vehicle_cost * self.__premium_percentage\n",
    "        return self.__premium_amount\n",
    "        \n",
    "            \n",
    "v1 = Vehicle()\n",
    "v1.set_vehicle_id(7)\n",
    "v1.set_vehicle_type(\"threeWheeler\")\n",
    "v1.set_vehicle_cost(50000)\n",
    "v1.set_premium_amount()\n",
    "v1.calculate_premium()\n",
    "            "
   ]
  },
  {
   "cell_type": "code",
   "execution_count": 5,
   "metadata": {},
   "outputs": [
    {
     "data": {
      "text/plain": [
       "2100.0"
      ]
     },
     "execution_count": 5,
     "metadata": {},
     "output_type": "execute_result"
    }
   ],
   "source": [
    "#OOPR-Assgn-5\n",
    "#Start writing your code here\n",
    " #OOPR-Assgn-5\n",
    "#Start writing your code here\n",
    "class Vehicle:\n",
    "    def __init__(self):\n",
    "        pass\n",
    "    \n",
    "    def set_vehicle_id(self):\n",
    "        self.__vehicle_id = None\n",
    "        \n",
    "    def set_vehicle_type(self):\n",
    "        self.__vehicle_type = None\n",
    "    \n",
    "    def set_vehicle_cost(self):\n",
    "        self.__vehicle_cost = None\n",
    "    \n",
    "    \n",
    "    def set_premium_amount(self):\n",
    "        self.__premium_amount = None\n",
    "        \n",
    "    def calculate_premium(self,vehicle_type,vehicle_cost):\n",
    "        self.__vehicle_type = vehicle_type\n",
    "        self.__vehicle_cost = vehicle_cost\n",
    "        if self.__vehicle_type ==\"TwoWheeler\":\n",
    "            self.__premium_percentage = 0.2\n",
    "        elif self.__vehicle_type == \"FourWheeler\":\n",
    "             self.__premium_percentage = 0.5\n",
    "        else:\n",
    "            self.__premium_percentage = None\n",
    "        self.__premium_amount = self.__vehicle_cost * self.__premium_percentage\n",
    "        return self.__premium_amount\n",
    "        \n",
    "            \n",
    "v1 = Vehicle()\n",
    "v1.set_premium_amount()\n",
    "v1.calculate_premium(\"TwoWheeler\",10500)"
   ]
  },
  {
   "cell_type": "code",
   "execution_count": 6,
   "metadata": {},
   "outputs": [],
   "source": [
    "#OOPR-Assgn-7\n",
    "#Start writing your code here\n",
    "class Instructor:\n",
    "    def __init__(self):\n",
    "        pass\n",
    "    def set_instructor_name(self,name):\n",
    "        self.__instructor_name = name\n",
    "        \n",
    "    def set_technology_skill(self,lists):\n",
    "        self.__technology_skill = lists\n",
    "    \n",
    "    def set_avg_feedback(self,avg_feedback):\n",
    "        self.__avg_feedback = avg_feedback\n",
    "        \n",
    "    def set_experience(self,experience):\n",
    "        self.__experience = experience    \n",
    "    def allocate_course(self,technology):\n",
    "        if technology in self.__technology_skill:\n",
    "            if(self.check_eligibility):\n",
    "                return True\n",
    "            else:\n",
    "                return False\n",
    "        else:\n",
    "            return False\n",
    "    def check_eligibility(self):\n",
    "        if self.__avg_feedback >= 4 and self.__experience <=3 or self.__avg_feedback >= 4.5 and self.__experience >3  :\n",
    "                return True\n",
    "        else:\n",
    "                return False"
   ]
  },
  {
   "cell_type": "code",
   "execution_count": 7,
   "metadata": {},
   "outputs": [
    {
     "data": {
      "text/plain": [
       "False"
      ]
     },
     "execution_count": 7,
     "metadata": {},
     "output_type": "execute_result"
    }
   ],
   "source": [
    "ins1 = Instructor()\n",
    "ins1.set_technology_skill([\"java\",\"python\"])\n",
    "ins1.set_avg_feedback(4.5)\n",
    "ins1.set_experience(4)\n",
    "ins1.allocate_course(\"c++\")"
   ]
  },
  {
   "cell_type": "code",
   "execution_count": 8,
   "metadata": {},
   "outputs": [
    {
     "ename": "AttributeError",
     "evalue": "'Instructor' object has no attribute 'get_tech'",
     "output_type": "error",
     "traceback": [
      "\u001b[1;31m---------------------------------------------------------------------------\u001b[0m",
      "\u001b[1;31mAttributeError\u001b[0m                            Traceback (most recent call last)",
      "\u001b[1;32m<ipython-input-8-0167cb673e05>\u001b[0m in \u001b[0;36m<module>\u001b[1;34m\u001b[0m\n\u001b[0;32m      1\u001b[0m \u001b[1;33m(\u001b[0m\u001b[0mins1\u001b[0m\u001b[1;33m.\u001b[0m\u001b[0m_Instructor__technology_skill\u001b[0m\u001b[1;33m)\u001b[0m\u001b[1;33m\u001b[0m\u001b[1;33m\u001b[0m\u001b[0m\n\u001b[1;32m----> 2\u001b[1;33m \u001b[0mins1\u001b[0m\u001b[1;33m.\u001b[0m\u001b[0mget_tech\u001b[0m\u001b[1;33m(\u001b[0m\u001b[1;33m)\u001b[0m\u001b[1;33m\u001b[0m\u001b[1;33m\u001b[0m\u001b[0m\n\u001b[0m",
      "\u001b[1;31mAttributeError\u001b[0m: 'Instructor' object has no attribute 'get_tech'"
     ]
    }
   ],
   "source": [
    "(ins1._Instructor__technology_skill)\n",
    "ins1.get_tech()"
   ]
  },
  {
   "cell_type": "code",
   "execution_count": 12,
   "metadata": {},
   "outputs": [
    {
     "name": "stdout",
     "output_type": "stream",
     "text": [
      "A 10\n"
     ]
    },
    {
     "data": {
      "text/plain": [
       "10"
      ]
     },
     "execution_count": 12,
     "metadata": {},
     "output_type": "execute_result"
    }
   ],
   "source": [
    "class Demo:\n",
    "    num=5\n",
    "    def __init__(self,status):\n",
    "        Demo.num=10\n",
    "        print(status,Demo.num)\n",
    "d=Demo('A')\n",
    "Demo.num"
   ]
  },
  {
   "cell_type": "code",
   "execution_count": 13,
   "metadata": {},
   "outputs": [
    {
     "ename": "NameError",
     "evalue": "name 'self' is not defined",
     "output_type": "error",
     "traceback": [
      "\u001b[1;31m---------------------------------------------------------------------------\u001b[0m",
      "\u001b[1;31mNameError\u001b[0m                                 Traceback (most recent call last)",
      "\u001b[1;32m<ipython-input-13-c07072aa24ca>\u001b[0m in \u001b[0;36m<module>\u001b[1;34m\u001b[0m\n\u001b[0;32m      7\u001b[0m         \u001b[0mprint\u001b[0m\u001b[1;33m(\u001b[0m\u001b[0mself\u001b[0m\u001b[1;33m.\u001b[0m\u001b[0m__num\u001b[0m\u001b[1;33m)\u001b[0m\u001b[1;33m\u001b[0m\u001b[1;33m\u001b[0m\u001b[0m\n\u001b[0;32m      8\u001b[0m \u001b[0mobj\u001b[0m\u001b[1;33m=\u001b[0m\u001b[0mExample\u001b[0m\u001b[1;33m(\u001b[0m\u001b[1;33m)\u001b[0m\u001b[1;33m\u001b[0m\u001b[1;33m\u001b[0m\u001b[0m\n\u001b[1;32m----> 9\u001b[1;33m \u001b[0mobj\u001b[0m\u001b[1;33m.\u001b[0m\u001b[0mdisplay\u001b[0m\u001b[1;33m(\u001b[0m\u001b[1;33m)\u001b[0m\u001b[1;33m\u001b[0m\u001b[1;33m\u001b[0m\u001b[0m\n\u001b[0m",
      "\u001b[1;32m<ipython-input-13-c07072aa24ca>\u001b[0m in \u001b[0;36mdisplay\u001b[1;34m()\u001b[0m\n\u001b[0;32m      4\u001b[0m     \u001b[1;33m@\u001b[0m\u001b[0mstaticmethod\u001b[0m\u001b[1;33m\u001b[0m\u001b[1;33m\u001b[0m\u001b[0m\n\u001b[0;32m      5\u001b[0m     \u001b[1;32mdef\u001b[0m \u001b[0mdisplay\u001b[0m\u001b[1;33m(\u001b[0m\u001b[1;33m)\u001b[0m\u001b[1;33m:\u001b[0m\u001b[1;33m\u001b[0m\u001b[1;33m\u001b[0m\u001b[0m\n\u001b[1;32m----> 6\u001b[1;33m         \u001b[0mself\u001b[0m\u001b[1;33m.\u001b[0m\u001b[0m__num\u001b[0m\u001b[1;33m+=\u001b[0m\u001b[1;36m1\u001b[0m\u001b[1;33m\u001b[0m\u001b[1;33m\u001b[0m\u001b[0m\n\u001b[0m\u001b[0;32m      7\u001b[0m         \u001b[0mprint\u001b[0m\u001b[1;33m(\u001b[0m\u001b[0mself\u001b[0m\u001b[1;33m.\u001b[0m\u001b[0m__num\u001b[0m\u001b[1;33m)\u001b[0m\u001b[1;33m\u001b[0m\u001b[1;33m\u001b[0m\u001b[0m\n\u001b[0;32m      8\u001b[0m \u001b[0mobj\u001b[0m\u001b[1;33m=\u001b[0m\u001b[0mExample\u001b[0m\u001b[1;33m(\u001b[0m\u001b[1;33m)\u001b[0m\u001b[1;33m\u001b[0m\u001b[1;33m\u001b[0m\u001b[0m\n",
      "\u001b[1;31mNameError\u001b[0m: name 'self' is not defined"
     ]
    }
   ],
   "source": [
    "class Example:\n",
    "    def __init__(self):\n",
    "        self.__num=10\n",
    "    @staticmethod\n",
    "    def display():\n",
    "        self.__num+=1\n",
    "        print(self.__num)\n",
    "obj=Example()\n",
    "obj.display()"
   ]
  },
  {
   "cell_type": "code",
   "execution_count": 14,
   "metadata": {},
   "outputs": [],
   "source": [
    "import antigravity"
   ]
  },
  {
   "cell_type": "code",
   "execution_count": 4,
   "metadata": {},
   "outputs": [
    {
     "name": "stdout",
     "output_type": "stream",
     "text": [
      "red\n"
     ]
    }
   ],
   "source": [
    "class Customer:\n",
    "    def __init__(self,name,mobile):\n",
    "        self.name=name\n",
    "        self.mobile=mobile\n",
    "class Mobile:\n",
    "    def __init__(self,brand):\n",
    "        self.brand=brand\n",
    "    def unlock(self,cover):\n",
    "        print(cover.color)\n",
    "class Cover:\n",
    "    def __init__(self):\n",
    "        self.color=\"red\"\n",
    "Customer(\"Cus1\",Mobile(\"Apple\")).mobile.unlock(Cover())"
   ]
  },
  {
   "cell_type": "code",
   "execution_count": 10,
   "metadata": {},
   "outputs": [
    {
     "name": "stdout",
     "output_type": "stream",
     "text": [
      "Parent: Num: 10\n",
      "Child: Val: 100\n"
     ]
    }
   ],
   "source": [
    "class Parent:\n",
    "    def __init__(self,num):\n",
    "        self.__num=num\n",
    "    def get_num(self):\n",
    "        return self.__num\n",
    "class Child(Parent):\n",
    "    def  __init__(self,val,num):\n",
    "        self.__val = val\n",
    "        super().__init__(num)\n",
    "    def get_val(self):\n",
    "        return self.__val\n",
    "son=Child(100,10)\n",
    "print(\"Parent: Num:\",son.get_num())\n",
    "print(\"Child: Val:\",son.get_val())"
   ]
  },
  {
   "cell_type": "code",
   "execution_count": 21,
   "metadata": {},
   "outputs": [
    {
     "name": "stdout",
     "output_type": "stream",
     "text": [
      "class A : 1\n"
     ]
    }
   ],
   "source": [
    "class A:\n",
    "    def __init__(self):\n",
    "        self.var1=100\n",
    "\n",
    "    def display1(self,var1):\n",
    "        print(\"class A :\", var1)\n",
    "class B(A):\n",
    "    def display2(self,var1):\n",
    "        print(\"class B :\", self.var1)\n",
    "\n",
    "obj=B()\n",
    "obj.display1(1)"
   ]
  },
  {
   "cell_type": "code",
   "execution_count": 22,
   "metadata": {},
   "outputs": [
    {
     "name": "stdout",
     "output_type": "stream",
     "text": [
      "Parent: 100\n",
      "Child: 10\n"
     ]
    }
   ],
   "source": [
    "class Parent:\n",
    "    def __init__(self):\n",
    "        self.__num=100\n",
    "\n",
    "    def show(self):\n",
    "        print(\"Parent:\",self.__num)\n",
    "\n",
    "class Child(Parent):\n",
    "    def __init__(self):\n",
    "        super().__init__()\n",
    "        self.__var=10\n",
    "\n",
    "    def show(self):\n",
    "        print(\"Child:\",self.__var)\n",
    "\n",
    "dad=Parent()\n",
    "dad.show()\n",
    "son=Child()\n",
    "son.show()"
   ]
  },
  {
   "cell_type": "code",
   "execution_count": 27,
   "metadata": {},
   "outputs": [
    {
     "name": "stdout",
     "output_type": "stream",
     "text": [
      "Parent: 100\n",
      "Child: 10\n"
     ]
    }
   ],
   "source": [
    "class Parent:\n",
    "    def __init__(self):\n",
    "        self.__num=100\n",
    "\n",
    "    def show(self):\n",
    "        print(\"Parent:\",self.__num)\n",
    "\n",
    "class Child(Parent):\n",
    "    def __init__(self):\n",
    "        super().__init__()\n",
    "        self.__var=10\n",
    "\n",
    "    def show(self):\n",
    "        super().show()\n",
    "        print(\"Child:\",self.__var)\n",
    "\n",
    "obj=Child()\n",
    "obj.show()"
   ]
  },
  {
   "cell_type": "code",
   "execution_count": 29,
   "metadata": {},
   "outputs": [
    {
     "name": "stdout",
     "output_type": "stream",
     "text": [
      "90\n"
     ]
    }
   ],
   "source": [
    "class A:\n",
    "    def m1(self):\n",
    "        return 20\n",
    "class B(A):\n",
    "    def m1(self):\n",
    "        return 30\n",
    "    def m2(self):\n",
    "        return 40\n",
    "class C(B):\n",
    "    def m2(self):\n",
    "        return super().m2()\n",
    "obj1=A()\n",
    "obj2=B()\n",
    "obj3=C()\n",
    "print(obj1.m1() + obj3.m1()+ obj3.m2())"
   ]
  },
  {
   "cell_type": "code",
   "execution_count": 36,
   "metadata": {},
   "outputs": [
    {
     "ename": "TypeError",
     "evalue": "Can't instantiate abstract class Parent with abstract methods show",
     "output_type": "error",
     "traceback": [
      "\u001b[1;31m---------------------------------------------------------------------------\u001b[0m",
      "\u001b[1;31mTypeError\u001b[0m                                 Traceback (most recent call last)",
      "\u001b[1;32m<ipython-input-36-cf90789ccb48>\u001b[0m in \u001b[0;36m<module>\u001b[1;34m\u001b[0m\n\u001b[0;32m     17\u001b[0m         \u001b[0mprint\u001b[0m\u001b[1;33m(\u001b[0m\u001b[0mself\u001b[0m\u001b[1;33m.\u001b[0m\u001b[0m__var\u001b[0m\u001b[1;33m)\u001b[0m\u001b[1;33m\u001b[0m\u001b[1;33m\u001b[0m\u001b[0m\n\u001b[0;32m     18\u001b[0m \u001b[1;33m\u001b[0m\u001b[0m\n\u001b[1;32m---> 19\u001b[1;33m \u001b[0mobj\u001b[0m\u001b[1;33m=\u001b[0m\u001b[0mParent\u001b[0m\u001b[1;33m(\u001b[0m\u001b[1;33m)\u001b[0m\u001b[1;33m\u001b[0m\u001b[1;33m\u001b[0m\u001b[0m\n\u001b[0m\u001b[0;32m     20\u001b[0m \u001b[0mobj\u001b[0m\u001b[1;33m.\u001b[0m\u001b[0mshow\u001b[0m\u001b[1;33m(\u001b[0m\u001b[1;33m)\u001b[0m\u001b[1;33m\u001b[0m\u001b[1;33m\u001b[0m\u001b[0m\n",
      "\u001b[1;31mTypeError\u001b[0m: Can't instantiate abstract class Parent with abstract methods show"
     ]
    }
   ],
   "source": [
    "\n",
    "from abc import ABCMeta, abstractmethod\n",
    "class Parent(metaclass=ABCMeta):\n",
    "    def __init__(self):\n",
    "        self.num=100\n",
    "\n",
    "    @abstractmethod\n",
    "    def show(self):\n",
    "        pass\n",
    "\n",
    "class Child(Parent):\n",
    "    def __init__(self):\n",
    "        super().__init__()\n",
    "        self.__var=10\n",
    "\n",
    "    def show(self):\n",
    "        print(self.num)\n",
    "        print(self.__var)\n",
    "\n",
    "obj=Parent()\n",
    "obj.show()"
   ]
  },
  {
   "cell_type": "code",
   "execution_count": 41,
   "metadata": {},
   "outputs": [
    {
     "name": "stdout",
     "output_type": "stream",
     "text": [
      "100\n",
      "10\n"
     ]
    }
   ],
   "source": [
    "from abc import ABCMeta, abstractmethod\n",
    "class Parent(metaclass=ABCMeta):\n",
    "    def __init__(self):\n",
    "        print(100)\n",
    "\n",
    "    @abstractmethod\n",
    "    def show(self):\n",
    "        pass\n",
    "\n",
    "class Child(Parent):\n",
    "    def __init__(self):\n",
    "        super().__init__()\n",
    "        print(10)\n",
    "        # mandatory ovveride\n",
    "    def show(self):  \n",
    "        pass\n",
    "\n",
    "obj=Child()\n",
    "obj.show()"
   ]
  },
  {
   "cell_type": "code",
   "execution_count": 45,
   "metadata": {},
   "outputs": [
    {
     "name": "stdout",
     "output_type": "stream",
     "text": [
      "5\n",
      "10\n",
      "This is possible\n"
     ]
    }
   ],
   "source": [
    "\n",
    "from abc import ABCMeta, abstractmethod\n",
    "class Parent(metaclass=ABCMeta):\n",
    "    def __init__(self):\n",
    "        self.num=5\n",
    "    @abstractmethod\n",
    "    def show(self):\n",
    "        pass\n",
    "\n",
    "class Child(Parent):\n",
    "    def __init__(self):\n",
    "        super().__init__()\n",
    "        self.var=10\n",
    "    def show():\n",
    "        pass\n",
    "\n",
    "class GrandChild(Child):\n",
    "    def show1(self):\n",
    "        print(self.num)\n",
    "        print(self.var)\n",
    "        print(\"This is possible\")\n",
    "\n",
    "obj=GrandChild()\n",
    "obj.show1()"
   ]
  },
  {
   "cell_type": "code",
   "execution_count": 46,
   "metadata": {},
   "outputs": [
    {
     "name": "stdout",
     "output_type": "stream",
     "text": [
      "Please enter a card number2222\n",
      "Something went wrong. \n",
      "Please enter a card number1\n",
      "Something went wrong. \n",
      "Please enter a card number800\n",
      "Something went wrong. \n",
      "Please enter a card number101\n",
      "Something went wrong. \n",
      "Please enter a card number102\n"
     ]
    }
   ],
   "source": [
    "class CreditCard:\n",
    "    def __init__(self, card_no, balance):\n",
    "        self.card_no = card_no\n",
    "        self.balance = balance\n",
    "\n",
    "class Customer:\n",
    "    def __init__(self,cards):\n",
    "        self.cards=cards\n",
    "\n",
    "    def purchase_item(self, price, card_no):\n",
    "        if price < 0:\n",
    "            raise Exception()\n",
    "        if card_no not in self.cards:\n",
    "            raise Exception()\n",
    "        if price>self.cards[card_no].balance:\n",
    "            raise Exception()\n",
    "\n",
    "card1=CreditCard(101,800)\n",
    "card2=CreditCard(102,2000)\n",
    "cards={card1.card_no:card1,card2.card_no:card2}\n",
    "c=Customer(cards)\n",
    "\n",
    "while(True):\n",
    "    card_no=int(input(\"Please enter a card number\"))\n",
    "    try:\n",
    "        c.purchase_item(1200,card_no)\n",
    "        break\n",
    "    except Exception as e:\n",
    "        print(\"Something went wrong. \"+str(e))"
   ]
  },
  {
   "cell_type": "code",
   "execution_count": 78,
   "metadata": {},
   "outputs": [],
   "source": [
    "def check(n1,n2):\n",
    "    if(n2<=0):\n",
    "        raise Exception(\"Something Wrong\")\n",
    "    else:    \n",
    "        return n1/n2"
   ]
  },
  {
   "cell_type": "code",
   "execution_count": 79,
   "metadata": {},
   "outputs": [
    {
     "name": "stdout",
     "output_type": "stream",
     "text": [
      "('Something Wrong',)\n"
     ]
    }
   ],
   "source": [
    "\n",
    "try:\n",
    "    check(0,0)\n",
    "except Exception as e:\n",
    "    print(e.args)"
   ]
  },
  {
   "cell_type": "code",
   "execution_count": 83,
   "metadata": {},
   "outputs": [
    {
     "name": "stdout",
     "output_type": "stream",
     "text": [
      "Please enter a card number101\n",
      "Card has insufficient balance\n",
      "Please enter a card number104\n",
      "Card is invalid\n",
      "Please enter a card number102\n"
     ]
    }
   ],
   "source": [
    "class InvalidPrice(Exception):\n",
    "    pass\n",
    "\n",
    "class WrongCard(Exception):\n",
    "    pass\n",
    "\n",
    "class CreditCard:\n",
    "    def __init__(self, card_no, balance):\n",
    "        self.card_no=card_no\n",
    "        self.balance=balance\n",
    "\n",
    "class Customer:\n",
    "    def __init__(self,cards):\n",
    "        self.cards=cards\n",
    "    def purchase_item(self,price,card_no):\n",
    "        if price < 0:\n",
    "            raise InvalidPrice(\"The price is wrong\")\n",
    "        if card_no not in self.cards:\n",
    "            raise WrongCard(\"Card is invalid\")\n",
    "        if price>self.cards[card_no].balance:\n",
    "            raise WrongCard(\"Card has insufficient balance\")\n",
    "\n",
    "card1=CreditCard(101,800)\n",
    "card2=CreditCard(102,2000)\n",
    "cards={card1.card_no:card1,card2.card_no:card2}\n",
    "c=Customer(cards)\n",
    "\n",
    "while(True):\n",
    "    card_no=int(input(\"Please enter a card number\"))\n",
    "    try:\n",
    "        c.purchase_item(1200,card_no)\n",
    "        break\n",
    "    except InvalidPrice as e:\n",
    "        print(str(e))\n",
    "        break\n",
    "    except WrongCard as e:\n",
    "        print(str(e))\n",
    "        continue\n",
    "    except Exception as e:\n",
    "        print(\"Something went wrong. \"+str(e))"
   ]
  },
  {
   "cell_type": "code",
   "execution_count": 86,
   "metadata": {},
   "outputs": [
    {
     "name": "stdout",
     "output_type": "stream",
     "text": [
      "Exception\n"
     ]
    }
   ],
   "source": [
    "try:\n",
    "    1/0\n",
    "except Exception:\n",
    "    print(\"Exception\")        \n",
    "except ZeroDivisionError:\n",
    "    print(\"Zero division\")\n"
   ]
  },
  {
   "cell_type": "code",
   "execution_count": 94,
   "metadata": {},
   "outputs": [
    {
     "name": "stdout",
     "output_type": "stream",
     "text": [
      "Invalid account number\n"
     ]
    }
   ],
   "source": [
    "class InvalidAccountException(Exception):\n",
    "    pass\n",
    "class Account:\n",
    "    account_list=[1001,1002,1003,1004]\n",
    "    def validate_account(self,account_id):\n",
    "        status=0\n",
    "        for acct_id in self.account_list:\n",
    "            if(account_id==acct_id):\n",
    "                status=1\n",
    "                break\n",
    "        if(status==1):\n",
    "            return True\n",
    "        else:\n",
    "            raise InvalidAccountException\n",
    "try:\n",
    "    account1=Account()\n",
    "    account1.validate_account(1008)\n",
    "    print(\"Valid account number\")\n",
    "except InvalidAccountException:\n",
    "    print(\"Invalid account number\")"
   ]
  },
  {
   "cell_type": "code",
   "execution_count": 96,
   "metadata": {},
   "outputs": [
    {
     "name": "stdout",
     "output_type": "stream",
     "text": [
      "2\n",
      "3\n"
     ]
    }
   ],
   "source": [
    "class Project:\n",
    "    def __init__(self,employee_list):\n",
    "        self.__employee_list=employee_list\n",
    "\n",
    "    def validate_employee(self,employee_id):\n",
    "        try:\n",
    "            if employee_id not in self.__employee_list:\n",
    "                raise Exception\n",
    "                print(\"1\")\n",
    "        except Exception:\n",
    "            print(\"2\")\n",
    "\n",
    "project1=Project([1001,1002,1003])\n",
    "project1.validate_employee(1005)\n",
    "print(\"3\")"
   ]
  },
  {
   "cell_type": "code",
   "execution_count": 100,
   "metadata": {},
   "outputs": [
    {
     "name": "stdout",
     "output_type": "stream",
     "text": [
      "True\n",
      "Not Eligible\n"
     ]
    }
   ],
   "source": [
    "class NotEligibleException(Exception):\n",
    "    pass\n",
    "class Employee:\n",
    "    def __init__(self,salary):\n",
    "        self.__salary=salary\n",
    "\n",
    "    def check_salary(self):\n",
    "        if(self.__salary < 2000):\n",
    "            raise NotEligibleException\n",
    "            return False\n",
    "        else:\n",
    "            return True\n",
    "\n",
    "emp1=Employee(5000)\n",
    "emp2=Employee(1000)\n",
    "try:\n",
    "    status=emp1.check_salary()\n",
    "    print(status)\n",
    "    status=emp2.check_salary()\n",
    "    print(status)\n",
    "except NotEligibleException:\n",
    "    print(\"Not Eligible\")"
   ]
  },
  {
   "cell_type": "code",
   "execution_count": 101,
   "metadata": {},
   "outputs": [
    {
     "name": "stdout",
     "output_type": "stream",
     "text": [
      "1\n",
      "3\n"
     ]
    }
   ],
   "source": [
    "class NotEligibleException(Exception):\n",
    "    pass\n",
    "class Employee:\n",
    "    def __init__(self,salary):\n",
    "        self.__salary=salary\n",
    "\n",
    "    def check_salary(self):\n",
    "        try:\n",
    "            if(self.__salary < 2000):\n",
    "                raise NotEligibleException\n",
    "            else:\n",
    "                return True\n",
    "        except NotEligibleException:\n",
    "            print(\"1\")\n",
    "            raise NotEligibleException\n",
    "\n",
    "emp1=Employee(1000)\n",
    "try:\n",
    "    status=emp1.check_salary()\n",
    "    print(\"2\")\n",
    "except NotEligibleException:\n",
    "    print(\"3\")"
   ]
  },
  {
   "cell_type": "code",
   "execution_count": null,
   "metadata": {},
   "outputs": [],
   "source": []
  }
 ],
 "metadata": {
  "kernelspec": {
   "display_name": "Python 3",
   "language": "python",
   "name": "python3"
  },
  "language_info": {
   "codemirror_mode": {
    "name": "ipython",
    "version": 3
   },
   "file_extension": ".py",
   "mimetype": "text/x-python",
   "name": "python",
   "nbconvert_exporter": "python",
   "pygments_lexer": "ipython3",
   "version": "3.7.6"
  }
 },
 "nbformat": 4,
 "nbformat_minor": 4
}
