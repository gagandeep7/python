{
 "cells": [
  {
   "cell_type": "code",
   "execution_count": 11,
   "metadata": {},
   "outputs": [
    {
     "data": {
      "text/plain": [
       "13"
      ]
     },
     "execution_count": 11,
     "metadata": {},
     "output_type": "execute_result"
    }
   ],
   "source": [
    "def gcd(m,n):\n",
    "    if m<n:\n",
    "        (m,n)=(n,m)\n",
    "    if m%n==0:\n",
    "        return(n)\n",
    "    for i in range(n,0,-1):\n",
    "        if m%i==0 and n%i==0:\n",
    "            return(i)\n",
    "            break\n",
    "    return(1)        \n",
    "        \n",
    "gcd(26,65)        "
   ]
  },
  {
   "cell_type": "code",
   "execution_count": 19,
   "metadata": {},
   "outputs": [],
   "source": [
    "# euclid algo\n",
    "# if m divede by d and n also by d\n",
    "# so m-n also dived by d\n",
    "def gcd1(m,n):\n",
    "    if m<n:\n",
    "        (m,n)=(n,m)\n",
    "    if m%n==0:\n",
    "        return(n)\n",
    "    else:\n",
    "        return(gcd1(min(n,m-n),max(n,m-n)))# first gcd1(min(9,15),max(9,15))==gcd1(9,15) \n",
    "    #next time gcd1((min(9,6),max(9,6)))==gcd1(6,9)\n",
    "    #now again we get gcd1(3,6), m<n change gcd1(6,3) and m%n==0 will true and return n"
   ]
  },
  {
   "cell_type": "code",
   "execution_count": 20,
   "metadata": {},
   "outputs": [
    {
     "data": {
      "text/plain": [
       "3"
      ]
     },
     "execution_count": 20,
     "metadata": {},
     "output_type": "execute_result"
    }
   ],
   "source": [
    "gcd1(9,24)"
   ]
  },
  {
   "cell_type": "code",
   "execution_count": 2,
   "metadata": {},
   "outputs": [],
   "source": [
    "# euclid algo improved \n",
    "# m is divide by d and n is also by d\n",
    "# remainder of m%n is also divide by d \n",
    "def gcd2(m,n):\n",
    "    if m<n:\n",
    "        (m,n)=(n,m)\n",
    "    if m%n==0:\n",
    "        return(n)\n",
    "    else:\n",
    "        return(gcd2(n,m%n))"
   ]
  },
  {
   "cell_type": "code",
   "execution_count": 3,
   "metadata": {},
   "outputs": [
    {
     "data": {
      "text/plain": [
       "2"
      ]
     },
     "execution_count": 3,
     "metadata": {},
     "output_type": "execute_result"
    }
   ],
   "source": [
    "gcd2(10,2)"
   ]
  },
  {
   "cell_type": "code",
   "execution_count": null,
   "metadata": {},
   "outputs": [],
   "source": []
  }
 ],
 "metadata": {
  "kernelspec": {
   "display_name": "Python 3",
   "language": "python",
   "name": "python3"
  },
  "language_info": {
   "codemirror_mode": {
    "name": "ipython",
    "version": 3
   },
   "file_extension": ".py",
   "mimetype": "text/x-python",
   "name": "python",
   "nbconvert_exporter": "python",
   "pygments_lexer": "ipython3",
   "version": "3.7.0"
  }
 },
 "nbformat": 4,
 "nbformat_minor": 2
}
